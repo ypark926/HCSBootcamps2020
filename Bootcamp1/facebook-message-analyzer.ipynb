{
 "cells": [
  {
   "cell_type": "code",
   "execution_count": 1,
   "metadata": {},
   "outputs": [],
   "source": [
    "# Facebook data mining bootcamp !!!\n",
    "# HCS Bootcamp 1 by Yooni Park and John Hwang\n",
    "\n",
    "# important imports \n",
    "import os\n",
    "import json\n",
    "import numpy as np\n",
    "import pylab as pl\n",
    "import datetime\n",
    "import matplotlib.pyplot as plt\n",
    "import matplotlib.dates as mdates\n",
    "from datetime import datetime\n",
    "from heapq import nlargest\n"
   ]
  },
  {
   "cell_type": "code",
   "execution_count": 2,
   "metadata": {},
   "outputs": [],
   "source": [
    "# globals \n",
    "\n",
    "CURRENT_DIRECTORY = os.getcwd()\n",
    "NUMBER_TO_ANALYZE = 700\n",
    "MESSAGE_THRESHOLD = 0\n"
   ]
  },
  {
   "cell_type": "code",
   "execution_count": 3,
   "metadata": {},
   "outputs": [
    {
     "name": "stdout",
     "output_type": "stream",
     "text": [
      "Analyzing 700 chats...\n"
     ]
    }
   ],
   "source": [
    "# get json data for the individual chats in your messages folder \n",
    "\n",
    "def get_json_data(chat):\n",
    "    try:\n",
    "        # you may need to change the directory path, depends on where you've downloaded your fb messages to. \n",
    "        json_location = CURRENT_DIRECTORY + \"/messages/inbox/\" + chat + \"/message_1.json\"\n",
    "        with open(json_location) as json_file:\n",
    "            json_data = json.load(json_file)\n",
    "            return json_data\n",
    "    except IOError:\n",
    "        pass # some things the directory aren't messages (DS_Store, stickers_used, etc.)\n",
    "\n",
    "\n",
    "    \n",
    "# create new globals for data to be plotted \n",
    "chats = os.listdir(CURRENT_DIRECTORY + \"/messages/inbox\")[:NUMBER_TO_ANALYZE]\n",
    "sorted_chats = []\n",
    "final_data_messages = {}\n",
    "final_data_times = {}\n",
    "final_data_words = {}\n",
    "invalid_message_count = 0\n",
    "\n",
    "\n",
    "\n",
    "print('Analyzing ' + str(min(NUMBER_TO_ANALYZE, len(chats))) + ' chats...')\n"
   ]
  },
  {
   "cell_type": "code",
   "execution_count": 4,
   "metadata": {},
   "outputs": [
    {
     "name": "stdout",
     "output_type": "stream",
     "text": [
      "Finished processing chats...\n"
     ]
    }
   ],
   "source": [
    "# sort data into new gobals \n",
    "\n",
    "for chat in chats:\n",
    "    url = chat\n",
    "    json_data = get_json_data(chat)\n",
    "\n",
    "    if json_data != None:\n",
    "        messages = json_data[\"messages\"]\n",
    "        if len(messages) >= MESSAGE_THRESHOLD:\n",
    "            sorted_chats.append((len(messages), chat, messages))\n",
    "\n",
    "sorted_chats.sort(reverse=True)\n",
    "\n",
    "print('Finished processing chats...')"
   ]
  },
  {
   "cell_type": "code",
   "execution_count": null,
   "metadata": {},
   "outputs": [
    {
     "name": "stdout",
     "output_type": "stream",
     "text": [
      "1 - 10000 messages - yoonipark_wg0stbnumw\n",
      "2 - 10000 messages - vivianli_9qowrys4wg\n",
      "3 - 10000 messages - trashtalkcentral_9uqejpaorg\n",
      "4 - 10000 messages - summoningtheghostofelgordo_wdm_hb9phq\n",
      "5 - 10000 messages - seohyunyoo_sccpqnnlfq\n",
      "6 - 10000 messages - oofasasquad_sxvngz8zga\n",
      "7 - 10000 messages - monkas_cu94xyhbgq\n",
      "8 - 10000 messages - jeffreychang_ef9g3e1auq\n",
      "9 - 10000 messages - graduationtriptojapan2019_ao52rm08ag\n",
      "10 - 10000 messages - facebookuser_o4spauwyta\n",
      "11 - 10000 messages - clammycaiyoatsfrilmandlitblumsofrieblumnathanjhonsonfilm_olvnumjyqa\n",
      "12 - 10000 messages - circle_fajofq2ywq\n",
      "13 - 10000 messages - chanseolee_bp1ee9rama\n",
      "14 - 10000 messages - bball_ycao8y12ba\n",
      "15 - 10000 messages - apchemnomutateduraniumpls_tu4ommkohw\n",
      "16 - 10000 messages - alexanderlu_qaobcxc8fq\n",
      "17 - 10000 messages - NonLucasNewLegitGoodChristiansexposayedGrandeBlancosChatTheUnionThomasConfederacy_L94obBkR_Q\n",
      "18 - 8803 messages - jenlo_xuvk0ypgkq\n",
      "19 - 8761 messages - bruisescrewcaltechandcornellandprincetonanddartmouthandnorthwesternandbrownandharvardandmitandyaleanduchicagoa_m2tf0jp92a\n",
      "20 - 7924 messages - thomashwang_uocpzv7bvw\n",
      "21 - 7348 messages - trashchat_vbcepg6xla\n",
      "22 - 7140 messages - kevinzhou_j9ambhkk7a\n",
      "23 - 7068 messages - fantasyleaguewhereonceagainistompalldeethscrubswiththepowerofeu_phv2us7suw\n",
      "24 - 6984 messages - academicdecathlon_py4pbq2dig\n",
      "25 - 6738 messages - kyleyuan_0tqwt46wjg\n",
      "26 - 6348 messages - yuanfamily_wwbyrdgy5q\n",
      "27 - 5983 messages - stanleywu_t7yvg3qdgg\n",
      "28 - 5654 messages - nbafanboyscomedians_j2pik0ngqq\n",
      "29 - 5158 messages - hentaiecchifanservicechat_rknegr8u5a\n",
      "30 - 4676 messages - ryanwu_vfw7jw2w9g\n",
      "31 - 4475 messages - gordofantasymoney_t2hlc8_vzw\n",
      "32 - 4210 messages - sciencemaps_hmz_qeut-a\n",
      "33 - 4171 messages - richardchang_ju_xadyhoq\n",
      "34 - 4168 messages - physicc_nrn6kvwgwg\n",
      "35 - 4143 messages - c00lk1dsspamallowed_ycgee1vdrw\n",
      "36 - 4077 messages - hardeningancgeoclub_csv2ee1b4w\n",
      "37 - 4060 messages - kevinye_-0n9aoba5q\n",
      "38 - 3804 messages - alcoholicsandhanna_jllxzmcsug\n",
      "39 - 3691 messages - seriousdebatechat_nwjifv0qma\n",
      "40 - 3690 messages - compton_vfcos_bynq\n",
      "41 - 3644 messages - santasfistinghappyholidays_wxs2zravhq\n",
      "42 - 3597 messages - vballchatkoreal2ab_x_sguo1aeg\n",
      "43 - 3311 messages - suwonkim_vyjvx20phg\n",
      "44 - 3218 messages - tasc20192020_ymvlzjfjcg\n",
      "45 - 3139 messages - libraryproject_krmnjushla\n",
      "46 - 3110 messages - catherinelee_fxz3ndfshq\n",
      "47 - 2951 messages - yimingzheng_whsrtyovzg\n",
      "48 - 2780 messages - apfreeconeconomicsfrungerlacompton_fjwwewvgew\n",
      "49 - 2606 messages - lingyuan_tytne3ybka\n",
      "50 - 2514 messages - omw2londonnyc_uo3tcju-vq\n",
      "51 - 2494 messages - secretsocietyofconvictedfelonsakalibraryprojecttyrantss_zzqobxga5a\n",
      "52 - 2423 messages - apbionospamallowed_c97cyreq3q\n",
      "53 - 2404 messages - jeffreygu_imbgjola8a\n",
      "54 - 2310 messages - macrohardpremierneejcumbeetmahkneesayycention25thgm1m2r2_d7i-pfpboa\n",
      "55 - 2174 messages - minwoocho_fzcjofnxhq\n",
      "56 - 2164 messages - waltersahhhhblock_u1f8plsxxw\n",
      "57 - 2149 messages - nostalgic_mrnxgpcu8q\n",
      "58 - 2123 messages - paradebandsquad_fsv2mwzpzg\n",
      "59 - 2062 messages - kevinrho_rzmlpnoada\n"
     ]
    }
   ],
   "source": [
    "# continue sorting messages into the new globals (dictionaries)\n",
    "# you may have to alter this code a bit depending on what functions you would like to add\n",
    "\n",
    "tireds = {}\n",
    "swearers = {}\n",
    "commonexchanges = {}\n",
    "invalidmessages = {}\n",
    "\n",
    "for i, (messages, chat, messages) in enumerate(sorted_chats):\n",
    "    number_messages = {}\n",
    "    person_to_times = {}\n",
    "    number_words = {}\n",
    "\n",
    "    print(str(i+1) + \" - \" + str(len(messages)) + \" messages - \" + str(chat))\n",
    "\n",
    "    for message in messages:\n",
    "        try:\n",
    "            name = message[\"sender_name\"]\n",
    "            time = message[\"timestamp_ms\"]\n",
    "            message_content = message[\"content\"]\n",
    "\n",
    "            number_messages[name] = number_messages.get(name, 0)\n",
    "            number_messages[name] += 1\n",
    "\n",
    "            person_to_times[name] = person_to_times.get(name, [])\n",
    "            person_to_times[name].append(datetime.utcfromtimestamp(time/1000.0))\n",
    "\n",
    "            number_words[name] = number_words.get(name, [])\n",
    "            number_words[name].append(len(message_content.split()))\n",
    "            \n",
    "            if 'im tired' in message_content:\n",
    "                if name in tireds:\n",
    "                    tireds[name] += 1\n",
    "                else:\n",
    "                    tireds[name] = 1\n",
    "                    \n",
    "            if 'shit' or 'fuck' or 'damn ' or 'gaeshekki' or 'shippar' or 'hell' or 'shekki' or 'motherfucker' in message_content:\n",
    "                if name in swearers:\n",
    "                    swearers[name] += 1\n",
    "                else:\n",
    "                    swearers[name] = 1\n",
    "                    \n",
    "            if message_content in commonexchanges:\n",
    "                commonexchanges[message_content] += 1\n",
    "            else:\n",
    "                commonexchanges[message_content] = 1\n",
    "                \n",
    "        except KeyError:\n",
    "            # happens for special cases like users who deactivated, unfriended, blocked\n",
    "            invalid_message_count += 1\n",
    "\n",
    "    final_data_messages[i] = number_messages\n",
    "    final_data_times[i] = person_to_times\n",
    "    final_data_words[i] = number_words\n",
    "\n",
    "    \n",
    "\n",
    "print('Found ' + str(invalid_message_count) + ' invalid messages...')\n",
    "print('Found ' + str(len(sorted_chats)) + ' chats with ' + str(MESSAGE_THRESHOLD) + ' messages or more')"
   ]
  },
  {
   "cell_type": "code",
   "execution_count": null,
   "metadata": {},
   "outputs": [],
   "source": [
    "def plot_num_messages(chat_number):\n",
    "    plotted_data = final_data_messages[chat_number]\n",
    "    X = np.arange(len(plotted_data))\n",
    "    pl.bar(X, list(plotted_data.values()), align='center', width=0.5, color = 'r', bottom = 0.3)\n",
    "    pl.xticks(X, plotted_data.keys(), rotation = 90)\n",
    "    pl.title('Number of Messages Sent')\n",
    "    pl.tight_layout()\n",
    "    pl.show()\n",
    "    \n",
    "    \n",
    "def plot_histogram_time(chat_number):\n",
    "    person_to_times = final_data_times[chat_number]\n",
    "    pl.xlabel('Time')\n",
    "    pl.ylabel('Number of Messages')\n",
    "    pl.title('# of Messages Over Time')\n",
    "    colors = ['b', 'r', 'c', 'm', 'y', 'k', 'w', 'g']\n",
    "    for i , person in enumerate(person_to_times):\n",
    "        plotted_data = []\n",
    "        for time in person_to_times[person]:\n",
    "            plotted_data.append(time)\n",
    "        pl.hist(plotted_data, 100, alpha=0.3, label=person, facecolor=colors[i % len(colors)])\n",
    "    pl.legend()\n",
    "    pl.xticks(rotation=90)\n",
    "    pl.tight_layout()\n",
    "    pl.show()\n",
    "    \n",
    "def plot_histogram_words(chat_number):\n",
    "    temp = {}\n",
    "    for person in final_data_words[chat_number]:\n",
    "        temp[person] = np.average(final_data_words[chat_number][person])\n",
    "    plotted_data = temp\n",
    "    X = np.arange(len(plotted_data))\n",
    "    pl.bar(X, list(plotted_data.values()), align='center', width=0.5, color = 'r', bottom = 0.3)\n",
    "    pl.xticks(X, plotted_data.keys(), rotation = 90)\n",
    "    pl.title('Average Word Count')\n",
    "    pl.tight_layout()\n",
    "    pl.show()\n",
    "    \n",
    "def plot(chat_number):\n",
    "    plot_num_messages(chat_number)\n",
    "    #plot_histogram_time(chat_number)\n",
    "    #plot_histogram_words(chat_number)\n"
   ]
  },
  {
   "cell_type": "code",
   "execution_count": null,
   "metadata": {},
   "outputs": [],
   "source": [
    "plot(16)"
   ]
  },
  {
   "cell_type": "code",
   "execution_count": null,
   "metadata": {},
   "outputs": [],
   "source": [
    "def find_phrase ():\n",
    "    X = np.arange(len(tireds))\n",
    "    pl.bar(X, list(tireds.values()), align='center', width=0.5, color = 'b')\n",
    "    pl.xticks(X, tireds.keys(), rotation = 90)\n",
    "    pl.title('Most Messages with \\'im tired\\'')\n",
    "    pl.tight_layout()\n",
    "    pl.show()\n",
    "\n",
    "find_phrase()"
   ]
  },
  {
   "cell_type": "code",
   "execution_count": null,
   "metadata": {},
   "outputs": [],
   "source": [
    "print('People w/ most foul language: ' + str(nlargest(3, swearers, key = swearers.get)))"
   ]
  },
  {
   "cell_type": "code",
   "execution_count": null,
   "metadata": {},
   "outputs": [],
   "source": [
    "print('Most common exchanges: ' + str(nlargest(3, commonexchanges, key = commonexchanges.get)))"
   ]
  },
  {
   "cell_type": "code",
   "execution_count": null,
   "metadata": {},
   "outputs": [],
   "source": [
    "def message_times(chat_number):\n",
    "    timestamps = []\n",
    "    messages = sorted_chats[chat_number][2]\n",
    "    name = sorted_chats[chat_number][1]\n",
    "    for message in messages:\n",
    "        timestamp = message['timestamp_ms']\n",
    "        time_data = datetime.fromtimestamp(timestamp/1000.0)\n",
    "        hour = time_data.hour\n",
    "        timestamps.append(hour)\n",
    "    pl.xlabel('Time')\n",
    "    pl.ylabel('Number of Messages')\n",
    "    pl.title('Plot of Common Message Times')\n",
    "    colors = ['b', 'r', 'c', 'm', 'y', 'k', 'w', 'g']\n",
    "    pl.hist(timestamps, 100, alpha=0.3, label=name, facecolor=colors[i % len(colors)])\n",
    "    pl.legend()\n",
    "    pl.xticks(rotation=90)\n",
    "    pl.tight_layout()\n",
    "    pl.show()"
   ]
  },
  {
   "cell_type": "code",
   "execution_count": null,
   "metadata": {},
   "outputs": [],
   "source": [
    "message_times(3)"
   ]
  },
  {
   "cell_type": "code",
   "execution_count": null,
   "metadata": {},
   "outputs": [],
   "source": []
  },
  {
   "cell_type": "code",
   "execution_count": null,
   "metadata": {},
   "outputs": [],
   "source": []
  }
 ],
 "metadata": {
  "kernelspec": {
   "display_name": "Python 2",
   "language": "python",
   "name": "python2"
  },
  "language_info": {
   "codemirror_mode": {
    "name": "ipython",
    "version": 2
   },
   "file_extension": ".py",
   "mimetype": "text/x-python",
   "name": "python",
   "nbconvert_exporter": "python",
   "pygments_lexer": "ipython2",
   "version": "2.7.16"
  }
 },
 "nbformat": 4,
 "nbformat_minor": 2
}
